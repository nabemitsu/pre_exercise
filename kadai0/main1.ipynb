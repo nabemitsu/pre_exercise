{
 "cells": [
  {
   "cell_type": "code",
   "execution_count": 8,
   "metadata": {},
   "outputs": [],
   "source": [
    "import pandas as pd\n",
    "from sklearn.preprocessing import StandardScaler"
   ]
  },
  {
   "cell_type": "code",
   "execution_count": 9,
   "metadata": {},
   "outputs": [
    {
     "data": {
      "text/html": [
       "<div>\n",
       "<style scoped>\n",
       "    .dataframe tbody tr th:only-of-type {\n",
       "        vertical-align: middle;\n",
       "    }\n",
       "\n",
       "    .dataframe tbody tr th {\n",
       "        vertical-align: top;\n",
       "    }\n",
       "\n",
       "    .dataframe thead th {\n",
       "        text-align: right;\n",
       "    }\n",
       "</style>\n",
       "<table border=\"1\" class=\"dataframe\">\n",
       "  <thead>\n",
       "    <tr style=\"text-align: right;\">\n",
       "      <th></th>\n",
       "      <th>close</th>\n",
       "      <th>open</th>\n",
       "      <th>high</th>\n",
       "      <th>low</th>\n",
       "      <th>volume</th>\n",
       "    </tr>\n",
       "    <tr>\n",
       "      <th>date</th>\n",
       "      <th></th>\n",
       "      <th></th>\n",
       "      <th></th>\n",
       "      <th></th>\n",
       "      <th></th>\n",
       "    </tr>\n",
       "  </thead>\n",
       "  <tbody>\n",
       "    <tr>\n",
       "      <th>1987-02-12</th>\n",
       "      <td>182.4</td>\n",
       "      <td>182.4</td>\n",
       "      <td>182.4</td>\n",
       "      <td>182.4</td>\n",
       "      <td>1280000000</td>\n",
       "    </tr>\n",
       "    <tr>\n",
       "      <th>1987-02-13</th>\n",
       "      <td>172.5</td>\n",
       "      <td>176.5</td>\n",
       "      <td>176.5</td>\n",
       "      <td>172.5</td>\n",
       "      <td>422380000</td>\n",
       "    </tr>\n",
       "    <tr>\n",
       "      <th>1987-02-16</th>\n",
       "      <td>175.5</td>\n",
       "      <td>166.7</td>\n",
       "      <td>175.5</td>\n",
       "      <td>165.7</td>\n",
       "      <td>360510000</td>\n",
       "    </tr>\n",
       "    <tr>\n",
       "      <th>1987-02-17</th>\n",
       "      <td>182.4</td>\n",
       "      <td>176.5</td>\n",
       "      <td>184.3</td>\n",
       "      <td>175.5</td>\n",
       "      <td>881510000</td>\n",
       "    </tr>\n",
       "    <tr>\n",
       "      <th>1987-02-18</th>\n",
       "      <td>191.2</td>\n",
       "      <td>186.3</td>\n",
       "      <td>191.2</td>\n",
       "      <td>186.3</td>\n",
       "      <td>795090000</td>\n",
       "    </tr>\n",
       "  </tbody>\n",
       "</table>\n",
       "</div>"
      ],
      "text/plain": [
       "            close   open   high    low      volume\n",
       "date                                              \n",
       "1987-02-12  182.4  182.4  182.4  182.4  1280000000\n",
       "1987-02-13  172.5  176.5  176.5  172.5   422380000\n",
       "1987-02-16  175.5  166.7  175.5  165.7   360510000\n",
       "1987-02-17  182.4  176.5  184.3  175.5   881510000\n",
       "1987-02-18  191.2  186.3  191.2  186.3   795090000"
      ]
     },
     "execution_count": 9,
     "metadata": {},
     "output_type": "execute_result"
    }
   ],
   "source": [
    "df = pd.read_csv('stock_price.csv', index_col='日付け', parse_dates=True)\n",
    "axis = ['close', 'open', 'high', 'low', 'volume', 'rate']\n",
    "df.columns = axis\n",
    "df.index.name = 'date'\n",
    "df = df.sort_index()\n",
    "df = df.drop(['rate'], axis=1)\n",
    "\n",
    "def convert_volume(volume):\n",
    "    if isinstance(volume, str):\n",
    "        if 'B' in volume:\n",
    "            return int(float(volume.replace('B', '')) * 1e9)\n",
    "        elif 'M' in volume:\n",
    "            return int(float(volume.replace('M', '')) * 1e6)\n",
    "        elif 'K' in volume:\n",
    "            return int(float(volume.replace('K', '')) * 1e3)\n",
    "    return int(volume)\n",
    "\n",
    "df['volume'] = df['volume'].apply(convert_volume)\n",
    "df.head()"
   ]
  },
  {
   "cell_type": "code",
   "execution_count": 10,
   "metadata": {},
   "outputs": [],
   "source": [
    "# from tsfresh import extract_features, extract_relevant_features, select_features\n",
    "\n",
    "# df_2000 = df.loc['2000-01-01':'2000-12-31']\n",
    "# df_extracted = extract_features(df_2000, column_id='close')\n",
    "# df_extracted.head()"
   ]
  },
  {
   "cell_type": "code",
   "execution_count": 11,
   "metadata": {},
   "outputs": [],
   "source": [
    "# df_extracted.describe()"
   ]
  },
  {
   "cell_type": "code",
   "execution_count": 12,
   "metadata": {},
   "outputs": [
    {
     "data": {
      "text/html": [
       "<div>\n",
       "<style scoped>\n",
       "    .dataframe tbody tr th:only-of-type {\n",
       "        vertical-align: middle;\n",
       "    }\n",
       "\n",
       "    .dataframe tbody tr th {\n",
       "        vertical-align: top;\n",
       "    }\n",
       "\n",
       "    .dataframe thead th {\n",
       "        text-align: right;\n",
       "    }\n",
       "</style>\n",
       "<table border=\"1\" class=\"dataframe\">\n",
       "  <thead>\n",
       "    <tr style=\"text-align: right;\">\n",
       "      <th></th>\n",
       "      <th>close</th>\n",
       "      <th>open</th>\n",
       "      <th>high</th>\n",
       "      <th>low</th>\n",
       "      <th>volume</th>\n",
       "    </tr>\n",
       "    <tr>\n",
       "      <th>date</th>\n",
       "      <th></th>\n",
       "      <th></th>\n",
       "      <th></th>\n",
       "      <th></th>\n",
       "      <th></th>\n",
       "    </tr>\n",
       "  </thead>\n",
       "  <tbody>\n",
       "    <tr>\n",
       "      <th>1987-02-12</th>\n",
       "      <td>1.788304</td>\n",
       "      <td>1.781658</td>\n",
       "      <td>1.747868</td>\n",
       "      <td>1.818317</td>\n",
       "      <td>8.850080</td>\n",
       "    </tr>\n",
       "    <tr>\n",
       "      <th>1987-02-13</th>\n",
       "      <td>1.592069</td>\n",
       "      <td>1.665047</td>\n",
       "      <td>1.632289</td>\n",
       "      <td>1.620652</td>\n",
       "      <td>1.995764</td>\n",
       "    </tr>\n",
       "    <tr>\n",
       "      <th>1987-02-16</th>\n",
       "      <td>1.651534</td>\n",
       "      <td>1.471354</td>\n",
       "      <td>1.612699</td>\n",
       "      <td>1.484882</td>\n",
       "      <td>1.501283</td>\n",
       "    </tr>\n",
       "    <tr>\n",
       "      <th>1987-02-17</th>\n",
       "      <td>1.788304</td>\n",
       "      <td>1.665047</td>\n",
       "      <td>1.785089</td>\n",
       "      <td>1.680551</td>\n",
       "      <td>5.665247</td>\n",
       "    </tr>\n",
       "    <tr>\n",
       "      <th>1987-02-18</th>\n",
       "      <td>1.962736</td>\n",
       "      <td>1.858740</td>\n",
       "      <td>1.920258</td>\n",
       "      <td>1.896186</td>\n",
       "      <td>4.974557</td>\n",
       "    </tr>\n",
       "  </tbody>\n",
       "</table>\n",
       "</div>"
      ],
      "text/plain": [
       "               close      open      high       low    volume\n",
       "date                                                        \n",
       "1987-02-12  1.788304  1.781658  1.747868  1.818317  8.850080\n",
       "1987-02-13  1.592069  1.665047  1.632289  1.620652  1.995764\n",
       "1987-02-16  1.651534  1.471354  1.612699  1.484882  1.501283\n",
       "1987-02-17  1.788304  1.665047  1.785089  1.680551  5.665247\n",
       "1987-02-18  1.962736  1.858740  1.920258  1.896186  4.974557"
      ]
     },
     "execution_count": 12,
     "metadata": {},
     "output_type": "execute_result"
    }
   ],
   "source": [
    "scaler = StandardScaler()\n",
    "df_scaled = pd.DataFrame(scaler.fit_transform(df), columns=df.columns, index=df.index)\n",
    "df_scaled.head()"
   ]
  },
  {
   "cell_type": "code",
   "execution_count": 15,
   "metadata": {},
   "outputs": [
    {
     "data": {
      "text/plain": [
       "[<matplotlib.lines.Line2D at 0x250c10bafc0>]"
      ]
     },
     "execution_count": 15,
     "metadata": {},
     "output_type": "execute_result"
    },
    {
     "data": {
      "image/png": "[encoded data removed]",
      "text/plain": [
       "<Figure size 640x480 with 1 Axes>"
      ]
     },
     "metadata": {},
     "output_type": "display_data"
    }
   ],
   "source": [
    "import matplotlib.pyplot as plt\n",
    "plt.plot(df_scaled.loc['2020':'2024']['close'], label='close')"
   ]
  },
  {
   "cell_type": "code",
   "execution_count": 14,
   "metadata": {},
   "outputs": [],
   "source": [
    "df_scaled.to_csv('stock_price_scaled.csv', index=True)"
   ]
  },
  {
   "cell_type": "code",
   "execution_count": null,
   "metadata": {},
   "outputs": [],
   "source": []
  }
 ],
 "metadata": {
  "kernelspec": {
   "display_name": "Python 3",
   "language": "python",
   "name": "python3"
  },
  "language_info": {
   "codemirror_mode": {
    "name": "ipython",
    "version": 3
   },
   "file_extension": ".py",
   "mimetype": "text/x-python",
   "name": "python",
   "nbconvert_exporter": "python",
   "pygments_lexer": "ipython3",
   "version": "3.12.4"
  }
 },
 "nbformat": 4,
 "nbformat_minor": 2
}
